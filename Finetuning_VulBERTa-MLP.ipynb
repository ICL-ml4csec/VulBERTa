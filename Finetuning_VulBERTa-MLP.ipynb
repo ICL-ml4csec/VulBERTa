{
 "cells": [
  {
   "cell_type": "code",
   "execution_count": null,
   "metadata": {},
   "outputs": [],
   "source": [
    "import pandas as pd\n",
    "import numpy as np\n",
    "import csv\n",
    "import pickle\n",
    "import re\n",
    "import torch\n",
    "import sklearn\n",
    "import os\n",
    "import random\n",
    "import custom\n",
    "import models\n",
    "import regex_def\n",
    "import clang\n",
    "from clang import *\n",
    "from clang import cindex\n",
    "from pathlib import Path\n",
    "from tokenizers import ByteLevelBPETokenizer\n",
    "from tokenizers.implementations import ByteLevelBPETokenizer\n",
    "from tokenizers.processors import BertProcessing\n",
    "from torch.utils.data import Dataset, DataLoader, IterableDataset\n",
    "from transformers import RobertaConfig\n",
    "from transformers import RobertaForMaskedLM, RobertaForSequenceClassification\n",
    "from transformers import RobertaTokenizerFast\n",
    "from transformers import DataCollatorForLanguageModeling\n",
    "from transformers import Trainer, TrainingArguments\n",
    "from transformers import LineByLineTextDataset\n",
    "from transformers.modeling_outputs import SequenceClassifierOutput\n",
    "from custom import CustomDataCollatorForLanguageModeling"
   ]
  },
  {
   "cell_type": "markdown",
   "metadata": {},
   "source": [
    "## Pre-requisites stuff"
   ]
  },
  {
   "cell_type": "code",
   "execution_count": null,
   "metadata": {},
   "outputs": [],
   "source": [
    "## Set default device (GPU or CPU)\n",
    "\n",
    "device = torch.device(\"cuda\" if torch.cuda.is_available() else \"cpu\")\n",
    "print(device)"
   ]
  },
  {
   "cell_type": "code",
   "execution_count": null,
   "metadata": {},
   "outputs": [],
   "source": [
    "## Deterministic/reproducible flags\n",
    "\n",
    "seedlist = [42, 834, 692, 489, 901, 408, 819, 808, 531, 166]\n",
    "\n",
    "seed = seedlist[0]\n",
    "os.environ['PYTHONHASHSEED'] = str(seed)\n",
    "torch.manual_seed(seed)\n",
    "torch.cuda.manual_seed(seed)\n",
    "torch.cuda.manual_seed_all(seed)\n",
    "np.random.seed(seed)\n",
    "random.seed(seed)\n",
    "torch.backends.cudnn.enabled = True\n",
    "torch.backends.cudnn.deterministic = True\n",
    "torch.backends.cudnn.benchmark = False"
   ]
  },
  {
   "cell_type": "code",
   "execution_count": null,
   "metadata": {},
   "outputs": [],
   "source": [
    "## Weights and Biases flags\n",
    "\n",
    "os.environ['WANDB_DISABLED'] = 'true'\n",
    "os.environ['WANDB_MODE'] = 'dryrun'\n",
    "# os.environ[\"CUDA_VISIBLE_DEVICES\"]=\"\"\n",
    "#os.environ['WANDB_NOTEBOOK_NAME'] = 'Pretrain word-level VulBERTa on Draper'\n",
    "#os.environ['WANDB_NAME'] = 'linux'\n",
    "#os.environ['WANDB_PROJECT'] = 'projectName'"
   ]
  },
  {
   "cell_type": "markdown",
   "metadata": {},
   "source": [
    "## Load/initialise custom tokenizer"
   ]
  },
  {
   "cell_type": "code",
   "execution_count": null,
   "metadata": {},
   "outputs": [],
   "source": [
    "## Tokenizer\n",
    "\n",
    "from tokenizers.pre_tokenizers import PreTokenizer\n",
    "from tokenizers.pre_tokenizers import Whitespace\n",
    "from tokenizers import NormalizedString,PreTokenizedString\n",
    "from typing import List \n",
    "\n",
    "class MyTokenizer:\n",
    "    \n",
    "    cidx = cindex.Index.create()\n",
    "        \n",
    "\n",
    "    def clang_split(self, i: int, normalized_string: NormalizedString) -> List[NormalizedString]:\n",
    "        ## Tokkenize using clang\n",
    "        tok = []\n",
    "        tu = self.cidx.parse('tmp.c',\n",
    "                       args=[''],  \n",
    "                       unsaved_files=[('tmp.c', str(normalized_string.original))],  \n",
    "                       options=0)\n",
    "        for t in tu.get_tokens(extent=tu.cursor.extent):\n",
    "            spelling = t.spelling.strip()\n",
    "            \n",
    "            if spelling == '':\n",
    "                continue\n",
    "                \n",
    "            ## Keyword no need\n",
    "\n",
    "            ## Punctuations no need\n",
    "\n",
    "            ## Literal all to BPE\n",
    "            \n",
    "            #spelling = spelling.replace(' ', '')\n",
    "            tok.append(NormalizedString(spelling))\n",
    "\n",
    "        return(tok)\n",
    "    \n",
    "    def pre_tokenize(self, pretok: PreTokenizedString):\n",
    "        pretok.split(self.clang_split)\n",
    "        \n",
    "## Custom tokenizer\n",
    "\n",
    "from tokenizers import Tokenizer\n",
    "from tokenizers import normalizers,decoders\n",
    "from tokenizers.normalizers import StripAccents, unicode_normalizer_from_str, Replace\n",
    "from tokenizers.processors import TemplateProcessing\n",
    "from tokenizers import processors,pre_tokenizers\n",
    "from tokenizers.models import BPE\n",
    "\n",
    "## Init new tokenizers\n",
    "#my_tokenizer = Tokenizer(BPE(unk_token=\"<unk>\"))\n",
    "#my_tokenizer = Tokenizer(BPE())\n",
    "\n",
    "\n",
    "## Load pre-trained tokenizers\n",
    "vocab, merges = BPE.read_file(vocab=\"./tokenizer/drapgh-vocab.json\", merges=\"./tokenizer/drapgh-merges.txt\")\n",
    "my_tokenizer = Tokenizer(BPE(vocab, merges, unk_token=\"<unk>\"))\n",
    "\n",
    "my_tokenizer.normalizer = normalizers.Sequence([StripAccents(), Replace(\" \", \"Ä\")])\n",
    "my_tokenizer.pre_tokenizer = PreTokenizer.custom(MyTokenizer())\n",
    "my_tokenizer.post_processor = processors.ByteLevel(trim_offsets=False)\n",
    "my_tokenizer.post_processor = TemplateProcessing(\n",
    "    single=\"<s> $A </s>\",\n",
    "    special_tokens=[\n",
    "    (\"<s>\",0),\n",
    "    (\"<pad>\",1),\n",
    "    (\"</s>\",2),\n",
    "    (\"<unk>\",3),\n",
    "    (\"<mask>\",4)\n",
    "    ]\n",
    ")\n"
   ]
  },
  {
   "cell_type": "markdown",
   "metadata": {},
   "source": [
    "## Choose dataset"
   ]
  },
  {
   "cell_type": "code",
   "execution_count": null,
   "metadata": {},
   "outputs": [],
   "source": [
    "mydataset = 'devign'"
   ]
  },
  {
   "cell_type": "markdown",
   "metadata": {},
   "source": [
    "### Tokenize dataset"
   ]
  },
  {
   "cell_type": "code",
   "execution_count": null,
   "metadata": {},
   "outputs": [],
   "source": [
    "my_tokenizer.enable_truncation(max_length=1024)\n",
    "my_tokenizer.enable_padding(direction='right', pad_id=1, pad_type_id=0, pad_token='<pad>', length=None, pad_to_multiple_of=None)"
   ]
  },
  {
   "cell_type": "code",
   "execution_count": null,
   "metadata": {},
   "outputs": [],
   "source": [
    "def process_encodings(encodings):\n",
    "    input_ids=[]\n",
    "    attention_mask=[]\n",
    "    for enc in encodings:\n",
    "        input_ids.append(enc.ids)\n",
    "        attention_mask.append(enc.attention_mask)\n",
    "    return {'input_ids':input_ids, 'attention_mask':attention_mask}"
   ]
  },
  {
   "cell_type": "code",
   "execution_count": null,
   "metadata": {},
   "outputs": [],
   "source": [
    "def cleaner(code):\n",
    "    ## Remove code comments\n",
    "    pat = re.compile(r'(/\\*([^*]|(\\*+[^*/]))*\\*+/)|(//.*)')\n",
    "    code = re.sub(pat,'',code)\n",
    "    code = re.sub('\\n','',code)\n",
    "    code = re.sub('\\t','',code)\n",
    "    return(code)"
   ]
  },
  {
   "cell_type": "code",
   "execution_count": null,
   "metadata": {},
   "outputs": [],
   "source": [
    "if mydataset =='devign':\n",
    "    train_index=set()\n",
    "    valid_index=set()\n",
    "\n",
    "    with open('data/finetune/devign/train.txt') as f:\n",
    "        for line in f:\n",
    "            line=line.strip()\n",
    "            train_index.add(int(line))\n",
    "\n",
    "    with open('data/finetune/devign/valid.txt') as f:\n",
    "        for line in f:\n",
    "            line=line.strip()\n",
    "            valid_index.add(int(line))\n",
    "    mydata = pd.read_json('data/finetune/devign/Devign.json')\n",
    "    m1=mydata.iloc[list(train_index)]\n",
    "    m2=mydata.iloc[list(valid_index)]\n",
    "\n",
    "    mydata = None\n",
    "    del(mydata)\n",
    "    m1.func = m1.func.apply(cleaner)\n",
    "    m2.func = m2.func.apply(cleaner)\n",
    "    \n",
    "    train_encodings = my_tokenizer.encode_batch(m1.func)\n",
    "    train_encodings = process_encodings(train_encodings)\n",
    "    \n",
    "    val_encodings = my_tokenizer.encode_batch(m2.func)\n",
    "    val_encodings = process_encodings(val_encodings)\n",
    "    \n",
    "else:\n",
    "    m1 = pd.read_pickle('data/finetune/%s/%s_train.pkl'%(mydataset,mydataset))\n",
    "    m2 = pd.read_pickle('data/finetune/%s/%s_val.pkl'%(mydataset,mydataset))\n",
    "    \n",
    "    try:\n",
    "        m1.functionSource = m1.functionSource.apply(cleaner)\n",
    "        m2.functionSource = m2.functionSource.apply(cleaner)\n",
    "        \n",
    "        if mydataset =='draper':\n",
    "            m1['target'] = m1['combine']*1\n",
    "            m2['target'] = m2['combine']*1\n",
    "        \n",
    "        train_encodings = my_tokenizer.encode_batch(m1.functionSource)\n",
    "        train_encodings = process_encodings(train_encodings)\n",
    "\n",
    "        val_encodings = my_tokenizer.encode_batch(m2.functionSource)\n",
    "        val_encodings = process_encodings(val_encodings)\n",
    "        \n",
    "    except:\n",
    "        m1.func = m1.func.apply(cleaner)\n",
    "        m2.func = m2.func.apply(cleaner)\n",
    "        \n",
    "        train_encodings = my_tokenizer.encode_batch(m1.func)\n",
    "        train_encodings = process_encodings(train_encodings)\n",
    "\n",
    "        val_encodings = my_tokenizer.encode_batch(m2.func)\n",
    "        val_encodings = process_encodings(val_encodings)\n"
   ]
  },
  {
   "cell_type": "markdown",
   "metadata": {},
   "source": [
    "### Prepare dataset"
   ]
  },
  {
   "cell_type": "code",
   "execution_count": null,
   "metadata": {},
   "outputs": [],
   "source": [
    "class MyCustomDataset(Dataset):\n",
    "    def __init__(self, encodings, labels):\n",
    "        self.encodings = encodings\n",
    "        self.labels = labels\n",
    "        assert len(self.encodings['input_ids']) == len(self.encodings['attention_mask']) ==  len(self.labels)\n",
    "\n",
    "    def __getitem__(self, idx):\n",
    "        item = {key: torch.tensor(val[idx]) for key, val in self.encodings.items()}\n",
    "        item['labels'] = torch.tensor(self.labels[idx])\n",
    "        return item\n",
    "\n",
    "    def __len__(self):\n",
    "        return len(self.labels)"
   ]
  },
  {
   "cell_type": "code",
   "execution_count": null,
   "metadata": {},
   "outputs": [],
   "source": [
    "try:\n",
    "    train_dataset = MyCustomDataset(train_encodings, m1.target.tolist())\n",
    "    val_dataset = MyCustomDataset(val_encodings, m2.target.tolist())\n",
    "    train_labels = m1.target.tolist()\n",
    "except:\n",
    "    train_dataset = MyCustomDataset(train_encodings, m1.label.tolist())\n",
    "    val_dataset = MyCustomDataset(val_encodings, m2.label.tolist())\n",
    "    train_labels = m1.label.tolist()"
   ]
  },
  {
   "cell_type": "code",
   "execution_count": null,
   "metadata": {},
   "outputs": [],
   "source": [
    "## D2A dataset ONLY\n",
    "\n",
    "task = 'function'\n",
    "\n",
    "m1 = pd.read_csv('data/finetune/%s/%s/d2a_lbv1_%s_train.csv'%(mydataset,task,task))\n",
    "m1.code = m1.code.apply(cleaner)\n",
    "train_encodings = my_tokenizer.encode_batch(m1.code)\n",
    "train_encodings = process_encodings(train_encodings)\n",
    "train_dataset = MyCustomDataset(train_encodings, m1.label.tolist())\n",
    "\n",
    "m2 = pd.read_csv('data/finetune/%s/%s/d2a_lbv1_%s_dev.csv'%(mydataset,task,task))\n",
    "m2.code = m2.code.apply(cleaner)\n",
    "val_encodings = my_tokenizer.encode_batch(m2.code)\n",
    "val_encodings = process_encodings(val_encodings)\n",
    "val_dataset = MyCustomDataset(val_encodings, m2.label.tolist())"
   ]
  },
  {
   "cell_type": "markdown",
   "metadata": {},
   "source": [
    "### streaming dataset ONLY! "
   ]
  },
  {
   "cell_type": "code",
   "execution_count": null,
   "metadata": {},
   "outputs": [],
   "source": [
    "################################## STREAMING DATASET #############################\n",
    "import pickle  \n",
    "\n",
    "\n",
    "m1 = pd.read_pickle('data/finetune/%s/%s_train.pkl'%(mydataset,mydataset))\n",
    "m1.functionSource = m1.functionSource.apply(cleaner)\n",
    "m1['target'] = m1['combine']*1\n",
    "m1 = np.array_split(m1, 5)\n",
    "\n",
    "split = 'train'\n",
    "with open('data/finetune/draper/draper_stream_%s.pkl'%split, 'wb') as f:\n",
    "    for m in m1:\n",
    "        encodings = my_tokenizer.encode_batch(m.functionSource)\n",
    "        labels = m.target.tolist()\n",
    "        for enc,label in zip(encodings,labels):\n",
    "            pickle.dump({'input_ids':enc.ids, 'attention_mask':enc.attention_mask, 'labels':label},f)\n",
    "\n",
    "            \n",
    "m2 = pd.read_pickle('data/finetune/%s/%s_val.pkl'%(mydataset,mydataset))\n",
    "m2.functionSource = m2.functionSource.apply(cleaner)\n",
    "m2['target'] = m2['combine']*1\n",
    "m2 = np.array_split(m2, 5)\n",
    "\n",
    "split = 'val'\n",
    "with open('data/finetune/draper/draper_stream_%s.pkl'%split, 'wb') as f:\n",
    "    for m in m2:\n",
    "        encodings = my_tokenizer.encode_batch(m.functionSource)\n",
    "        labels = m.target.tolist()\n",
    "        for enc,label in zip(encodings,labels):\n",
    "            pickle.dump({'input_ids':enc.ids, 'attention_mask':enc.attention_mask, 'labels':label},f)\n",
    "\n",
    "            \n",
    "m3 = pd.read_pickle('data/finetune/%s/%s_test.pkl'%(mydataset,mydataset))\n",
    "m3.functionSource = m3.functionSource.apply(cleaner)\n",
    "m3['target'] = m3['combine']*1\n",
    "m3 = np.array_split(m3, 5)\n",
    "\n",
    "split = 'test'\n",
    "with open('data/finetune/draper/draper_stream_%s.pkl'%split, 'wb') as f:\n",
    "    for m in m3:\n",
    "        encodings = my_tokenizer.encode_batch(m.functionSource)\n",
    "        labels = m.target.tolist()\n",
    "        for enc,label in zip(encodings,labels):\n",
    "            pickle.dump({'input_ids':enc.ids, 'attention_mask':enc.attention_mask, 'labels':label},f)"
   ]
  },
  {
   "cell_type": "code",
   "execution_count": null,
   "metadata": {},
   "outputs": [],
   "source": [
    "class MyDataset(IterableDataset):\n",
    "\n",
    "    def __init__(self,filename,rcount):\n",
    "     \n",
    "        self.filename=filename\n",
    "        self.len_labels=rcount\n",
    "        super().__init__()\n",
    "                    \n",
    "    def process(self,filename):\n",
    "        with open(filename, \"rb\") as f:\n",
    "            while True:\n",
    "                try:\n",
    "                    item = pickle.load(f)\n",
    "                    yield {'input_ids': torch.tensor(item['input_ids']), 'attention_mask':torch.tensor(item['attention_mask']), 'labels':torch.tensor(item['labels'])}\n",
    "                except EOFError:\n",
    "                    break\n",
    "                    \n",
    "    def __len__(self):\n",
    "        return self.len_labels\n",
    "\n",
    "    def __iter__(self):\n",
    "        dataset=self.process(self.filename)          \n",
    "        return dataset"
   ]
  },
  {
   "cell_type": "code",
   "execution_count": null,
   "metadata": {},
   "outputs": [],
   "source": []
  },
  {
   "cell_type": "code",
   "execution_count": null,
   "metadata": {},
   "outputs": [],
   "source": [
    "train_rcount = len(pd.read_pickle('data/finetune/draper/draper_train.pkl'))\n",
    "train_dataset = MyDataset('data/finetune/draper/draper_stream_train.pkl', train_rcount)"
   ]
  },
  {
   "cell_type": "code",
   "execution_count": null,
   "metadata": {},
   "outputs": [],
   "source": [
    "val_rcount = len(pd.read_pickle('data/finetune/draper/draper_val.pkl'))\n",
    "val_dataset = MyDataset('data/finetune/draper/draper_stream_val.pkl', val_rcount)"
   ]
  },
  {
   "cell_type": "code",
   "execution_count": null,
   "metadata": {},
   "outputs": [],
   "source": [
    "import pickle\n",
    "pickle.dump( train_dataset, open( \"td.pkl\", \"wb\" ))\n",
    "pickle.dump( val_dataset, open( \"vd.pkl\", \"wb\" ))"
   ]
  },
  {
   "cell_type": "code",
   "execution_count": null,
   "metadata": {},
   "outputs": [],
   "source": [
    "import pickle\n",
    "train_dataset = pickle.load(open( \"td.pkl\", \"rb\" ))\n",
    "val_dataset = pickle.load(open( \"vd.pkl\", \"rb\" ))"
   ]
  },
  {
   "cell_type": "markdown",
   "metadata": {},
   "source": [
    "### Load pretrained model"
   ]
  },
  {
   "cell_type": "code",
   "execution_count": null,
   "metadata": {},
   "outputs": [],
   "source": [
    "## Pre-trained RoBERTa\n",
    "\n",
    "model = RobertaForSequenceClassification.from_pretrained('./models/VulBERTa/')\n",
    "print(model.num_parameters())"
   ]
  },
  {
   "cell_type": "markdown",
   "metadata": {},
   "source": [
    "### Custom loss function with class weights"
   ]
  },
  {
   "cell_type": "code",
   "execution_count": null,
   "metadata": {},
   "outputs": [],
   "source": [
    "try:\n",
    "    cw = sklearn.utils.class_weight.compute_class_weight(class_weight='balanced',classes=[0,1],y=m1.label.tolist())\n",
    "except:\n",
    "    cw = sklearn.utils.class_weight.compute_class_weight(class_weight='balanced',classes=[0,1],y=m1.target.tolist())\n",
    "    \n",
    "c_weights = torch.FloatTensor([cw[0], cw[1]])"
   ]
  },
  {
   "cell_type": "code",
   "execution_count": null,
   "metadata": {},
   "outputs": [],
   "source": [
    "#criterion = torch.nn.CrossEntropyLoss() \n",
    "criterion = torch.nn.CrossEntropyLoss(weight=c_weights) \n",
    "criterion.to(device)\n",
    "\n",
    "class MyTrainer(Trainer):\n",
    "    def compute_loss(self, model, inputs, return_outputs=False):\n",
    "        labels = inputs.pop(\"labels\")\n",
    "        outputs = model(**inputs)\n",
    "        logits = outputs[\"logits\"]\n",
    "        #logits = outputs[0]        #### USE THIS IF CNN OR LSTM VURLBERTA\n",
    "        loss = criterion(logits,labels)\n",
    "        return (loss, outputs) if return_outputs else loss"
   ]
  },
  {
   "cell_type": "markdown",
   "metadata": {},
   "source": [
    "## Train the model"
   ]
  },
  {
   "cell_type": "code",
   "execution_count": null,
   "metadata": {
    "tags": []
   },
   "outputs": [],
   "source": [
    "training_args = TrainingArguments(\n",
    "        output_dir=\"models/VB-MLP_%s\" % mydataset,\n",
    "        overwrite_output_dir=False,\n",
    "        per_device_train_batch_size=4,\n",
    "        num_train_epochs=10,\n",
    "        evaluation_strategy='epoch',\n",
    "        save_total_limit=20,\n",
    "        seed=seed,\n",
    "        learning_rate=3e-05,\n",
    "        fp16=True,\n",
    "        report_to=None,\n",
    "        load_best_model_at_end =True\n",
    ")"
   ]
  },
  {
   "cell_type": "code",
   "execution_count": null,
   "metadata": {},
   "outputs": [],
   "source": [
    "trainer = MyTrainer(\n",
    "        model=model,\n",
    "        args=training_args,\n",
    "        train_dataset=train_dataset,\n",
    "        eval_dataset=val_dataset \n",
    ")"
   ]
  },
  {
   "cell_type": "code",
   "execution_count": null,
   "metadata": {},
   "outputs": [],
   "source": [
    "trainer.train()"
   ]
  },
  {
   "cell_type": "code",
   "execution_count": null,
   "metadata": {},
   "outputs": [],
   "source": [
    "import mlflow\n",
    "mlflow.end_run()"
   ]
  }
 ],
 "metadata": {
  "kernelspec": {
   "display_name": "Python 3",
   "language": "python",
   "name": "python3"
  },
  "language_info": {
   "codemirror_mode": {
    "name": "ipython",
    "version": 3
   },
   "file_extension": ".py",
   "mimetype": "text/x-python",
   "name": "python",
   "nbconvert_exporter": "python",
   "pygments_lexer": "ipython3",
   "version": "3.8.5"
  }
 },
 "nbformat": 4,
 "nbformat_minor": 4
}
